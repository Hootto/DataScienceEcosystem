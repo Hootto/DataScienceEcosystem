{
 "cells": [
  {
   "cell_type": "markdown",
   "id": "11acddeb-ecd6-432d-8f3f-021cb39f8dec",
   "metadata": {},
   "source": [
    "# Data Science Tools and Ecosystem"
   ]
  },
  {
   "cell_type": "markdown",
   "id": "a8c67420-c47d-4d14-a7fa-ee21d8211db3",
   "metadata": {},
   "source": [
    "In this notebook, Data Science Tools and Ecosystem are summarized."
   ]
  },
  {
   "cell_type": "markdown",
   "id": "410044a4-7d7f-49f7-839a-018fc3c03829",
   "metadata": {},
   "source": [
    "Some of the popular languages that Data Scientists use are:\n",
    "```\n",
    "1. Python\n",
    "2. R\n",
    "3. SQL\n",
    "```"
   ]
  },
  {
   "cell_type": "markdown",
   "id": "e9a8257c-166c-4790-a3e9-195a33dba851",
   "metadata": {},
   "source": [
    "Some of the commonly used libraries used by Data Scientists include:\n",
    "```\n",
    "1. pandas\n",
    "2. Numpy\n",
    "3. matplotlib\n",
    "```"
   ]
  },
  {
   "cell_type": "markdown",
   "id": "0241e9ef-2895-4d1e-ac4b-7c3f6a3b8a34",
   "metadata": {},
   "source": [
    "| Data Science Tools|\n",
    "|-------------------|\n",
    "|Jupyter Notebooks|\n",
    "|Rstudio|\n",
    "|ggplot2|\n"
   ]
  },
  {
   "cell_type": "markdown",
   "id": "78c770c6-22f2-4ca7-9cd5-7bffedc00612",
   "metadata": {},
   "source": [
    "Below are a few examples of evaluating arithmetic expressions in Python"
   ]
  },
  {
   "cell_type": "code",
   "execution_count": 3,
   "id": "45da8188-26d7-4bbf-8626-79efd9bc0fda",
   "metadata": {},
   "outputs": [
    {
     "data": {
      "text/plain": [
       "17"
      ]
     },
     "execution_count": 3,
     "metadata": {},
     "output_type": "execute_result"
    }
   ],
   "source": [
    "#This a simple arithmetic expression to mutiply then add integers\n",
    "(3*4)+5"
   ]
  },
  {
   "cell_type": "code",
   "execution_count": 4,
   "id": "5dbf47db-a79b-4d78-a785-d6376ac20f4b",
   "metadata": {},
   "outputs": [
    {
     "data": {
      "text/plain": [
       "3.3333333333333335"
      ]
     },
     "execution_count": 4,
     "metadata": {},
     "output_type": "execute_result"
    }
   ],
   "source": [
    "#This will convert 200 minutes to hours by diving by 60\n",
    "200/60"
   ]
  },
  {
   "cell_type": "markdown",
   "id": "d93f5c15-2b12-40e9-acd5-70f9256d43d6",
   "metadata": {},
   "source": [
    "**Objectives:**\n",
    "```\n",
    "-Listed popular languages for Data Science\n",
    "-Listed popular libraries for Data Science\n",
    "-Listed popular Data Science Tools\n",
    "```\n"
   ]
  },
  {
   "cell_type": "markdown",
   "id": "4d3d3fd5-9dc4-43a1-92e9-e7c604562210",
   "metadata": {},
   "source": [
    "## Author\n",
    "Laiba"
   ]
  },
  {
   "cell_type": "code",
   "execution_count": null,
   "id": "eaaa3ff7-7f8c-460f-b85b-09e2d5a2a706",
   "metadata": {},
   "outputs": [],
   "source": []
  }
 ],
 "metadata": {
  "kernelspec": {
   "display_name": "Python 3 (ipykernel)",
   "language": "python",
   "name": "python3"
  },
  "language_info": {
   "codemirror_mode": {
    "name": "ipython",
    "version": 3
   },
   "file_extension": ".py",
   "mimetype": "text/x-python",
   "name": "python",
   "nbconvert_exporter": "python",
   "pygments_lexer": "ipython3",
   "version": "3.11.7"
  }
 },
 "nbformat": 4,
 "nbformat_minor": 5
}
